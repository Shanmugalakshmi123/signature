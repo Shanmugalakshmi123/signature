{
 "cells": [
  {
   "cell_type": "code",
   "execution_count": 47,
   "metadata": {},
   "outputs": [],
   "source": [
    "import os\n",
    "import shutil\n",
    "# assign directory\n",
    "directory = r'C:\\Users\\shamr\\Desktop\\Hindhi\\BHSig260-Hindi'\n",
    " \n",
    "# iterate over files in\n",
    "# that directory\n",
    "for filename in os.listdir(directory):\n",
    "    f = os.path.join(directory, filename)\n",
    "    y=str(filename)\n",
    "    #print(y)\n",
    "    # checking if it is a file\n",
    "    for j in os.listdir(f):\n",
    "        x=str(j)\n",
    "        k=os.path.join(f,j)\n",
    "        if 'G' in x:\n",
    "            g=r\"C:\\Users\\shamr\\Desktop\\Hindhi\\original\"\n",
    "            h=os.path.join(g,x)\n",
    "            shutil.copy(k,h)\n",
    "            #print(x)"
   ]
  },
  {
   "cell_type": "markdown",
   "metadata": {},
   "source": []
  },
  {
   "cell_type": "code",
   "execution_count": 25,
   "metadata": {},
   "outputs": [
    {
     "name": "stderr",
     "output_type": "stream",
     "text": [
      "c:\\Users\\shamr\\AppData\\Local\\Programs\\Python\\Python312\\Lib\\site-packages\\keras\\src\\layers\\convolutional\\base_conv.py:99: UserWarning: Do not pass an `input_shape`/`input_dim` argument to a layer. When using Sequential models, prefer using an `Input(shape)` object as the first layer in the model instead.\n",
      "  super().__init__(\n"
     ]
    },
    {
     "name": "stdout",
     "output_type": "stream",
     "text": [
      "Epoch 1/10\n",
      "\u001b[1m66/66\u001b[0m \u001b[32m━━━━━━━━━━━━━━━━━━━━\u001b[0m\u001b[37m\u001b[0m \u001b[1m92s\u001b[0m 1s/step - accuracy: 0.5335 - loss: 201.0928 - val_accuracy: 0.7027 - val_loss: 0.6228\n",
      "Epoch 2/10\n",
      "\u001b[1m66/66\u001b[0m \u001b[32m━━━━━━━━━━━━━━━━━━━━\u001b[0m\u001b[37m\u001b[0m \u001b[1m85s\u001b[0m 1s/step - accuracy: 0.6792 - loss: 0.6137 - val_accuracy: 0.7348 - val_loss: 0.5679\n",
      "Epoch 3/10\n",
      "\u001b[1m66/66\u001b[0m \u001b[32m━━━━━━━━━━━━━━━━━━━━\u001b[0m\u001b[37m\u001b[0m \u001b[1m85s\u001b[0m 1s/step - accuracy: 0.7246 - loss: 0.5438 - val_accuracy: 0.7424 - val_loss: 0.5334\n",
      "Epoch 4/10\n",
      "\u001b[1m66/66\u001b[0m \u001b[32m━━━━━━━━━━━━━━━━━━━━\u001b[0m\u001b[37m\u001b[0m \u001b[1m86s\u001b[0m 1s/step - accuracy: 0.7611 - loss: 0.5021 - val_accuracy: 0.6742 - val_loss: 0.6052\n",
      "Epoch 5/10\n",
      "\u001b[1m66/66\u001b[0m \u001b[32m━━━━━━━━━━━━━━━━━━━━\u001b[0m\u001b[37m\u001b[0m \u001b[1m86s\u001b[0m 1s/step - accuracy: 0.7146 - loss: 0.5570 - val_accuracy: 0.7216 - val_loss: 0.5453\n",
      "Epoch 6/10\n",
      "\u001b[1m66/66\u001b[0m \u001b[32m━━━━━━━━━━━━━━━━━━━━\u001b[0m\u001b[37m\u001b[0m \u001b[1m85s\u001b[0m 1s/step - accuracy: 0.7447 - loss: 0.4936 - val_accuracy: 0.7064 - val_loss: 0.5423\n",
      "Epoch 7/10\n",
      "\u001b[1m66/66\u001b[0m \u001b[32m━━━━━━━━━━━━━━━━━━━━\u001b[0m\u001b[37m\u001b[0m \u001b[1m85s\u001b[0m 1s/step - accuracy: 0.8108 - loss: 0.4113 - val_accuracy: 0.5890 - val_loss: 1.0163\n",
      "Epoch 8/10\n",
      "\u001b[1m66/66\u001b[0m \u001b[32m━━━━━━━━━━━━━━━━━━━━\u001b[0m\u001b[37m\u001b[0m \u001b[1m85s\u001b[0m 1s/step - accuracy: 0.8448 - loss: 0.3528 - val_accuracy: 0.7689 - val_loss: 0.5073\n",
      "Epoch 9/10\n",
      "\u001b[1m66/66\u001b[0m \u001b[32m━━━━━━━━━━━━━━━━━━━━\u001b[0m\u001b[37m\u001b[0m \u001b[1m83s\u001b[0m 1s/step - accuracy: 0.9184 - loss: 0.2161 - val_accuracy: 0.6875 - val_loss: 0.7480\n",
      "Epoch 10/10\n",
      "\u001b[1m66/66\u001b[0m \u001b[32m━━━━━━━━━━━━━━━━━━━━\u001b[0m\u001b[37m\u001b[0m \u001b[1m85s\u001b[0m 1s/step - accuracy: 0.9336 - loss: 0.1821 - val_accuracy: 0.7500 - val_loss: 0.5942\n",
      "\u001b[1m17/17\u001b[0m \u001b[32m━━━━━━━━━━━━━━━━━━━━\u001b[0m\u001b[37m\u001b[0m \u001b[1m4s\u001b[0m 233ms/step - accuracy: 0.7506 - loss: 0.5526\n",
      "Validation accuracy: 0.75\n"
     ]
    }
   ],
   "source": [
    "import os\n",
    "import cv2\n",
    "import numpy as np\n",
    "from sklearn.model_selection import train_test_split\n",
    "from tensorflow.keras.layers import Conv2D, MaxPooling2D, Flatten, Dense\n",
    "from tensorflow.keras.models import Sequential\n",
    "\n",
    "# Define the paths to the real and forged signature images\n",
    "real_path = r'C:\\Users\\shamr\\Desktop\\CEDAR\\original'\n",
    "forged_path = r'C:\\Users\\shamr\\Desktop\\CEDAR\\forged'\n",
    "\n",
    "# Load the real signature images\n",
    "real_images = []\n",
    "for filename in os.listdir(real_path):\n",
    "    image = cv2.imread(os.path.join(real_path, filename))\n",
    "    if image is not None:\n",
    "        image = cv2.cvtColor(image, cv2.COLOR_BGR2GRAY)\n",
    "        image = cv2.resize(image, (224, 224))\n",
    "        real_images.append(image)\n",
    "\n",
    "# Load the forged signature images\n",
    "forged_images = []\n",
    "for filename in os.listdir(forged_path):\n",
    "    image = cv2.imread(os.path.join(forged_path, filename))\n",
    "    if image is not None:\n",
    "        image = cv2.cvtColor(image, cv2.COLOR_BGR2GRAY)\n",
    "        image = cv2.resize(image, (224, 224))\n",
    "        forged_images.append(image)\n",
    "\n",
    "# Convert the images to numpy arrays\n",
    "real_images = np.array(real_images)\n",
    "forged_images = np.array(forged_images)\n",
    "\n",
    "# Create the labels (0 for real, 1 for forged)\n",
    "real_labels = np.zeros((real_images.shape[0], 1))\n",
    "forged_labels = np.ones((forged_images.shape[0], 1))\n",
    "\n",
    "# Concatenate the real and forged images and labels\n",
    "images = np.concatenate((real_images, forged_images))\n",
    "labels = np.concatenate((real_labels, forged_labels))\n",
    "\n",
    "# Split the data into training and validation sets\n",
    "train_images, val_images, train_labels, val_labels = train_test_split(images, labels, test_size=0.2, random_state=42)\n",
    "\n",
    "# Create the CNN model\n",
    "model = Sequential([\n",
    "    Conv2D(32, (3,3), activation='relu', input_shape=(224,224,1)),\n",
    "    MaxPooling2D(2,2),\n",
    "    Conv2D(64, (3,3), activation='relu'),\n",
    "    MaxPooling2D(2,2),\n",
    "    Conv2D(128, (3,3), activation='relu'),\n",
    "    MaxPooling2D(2,2),\n",
    "    Flatten(),\n",
    "    Dense(512, activation='relu'),\n",
    "    Dense(1, activation='sigmoid')\n",
    "])\n",
    "\n",
    "# Compile the model\n",
    "model.compile(loss='binary_crossentropy', optimizer='adam', metrics=['accuracy'])\n",
    "\n",
    "# Train the model on the training data\n",
    "model.fit(train_images.reshape((-1, 224, 224, 1)), train_labels, batch_size=32, epochs=10, validation_data=(val_images.reshape((-1, 224, 224, 1)), val_labels))\n",
    "\n",
    "# Evaluate the model on the validation data\n",
    "loss, accuracy = model.evaluate(val_images.reshape((-1, 224, 224, 1)), val_labels)\n",
    "print('Validation accuracy:', accuracy)"
   ]
  },
  {
   "cell_type": "code",
   "execution_count": 5,
   "metadata": {},
   "outputs": [
    {
     "name": "stdout",
     "output_type": "stream",
     "text": [
      "\u001b[1m34/34\u001b[0m \u001b[32m━━━━━━━━━━━━━━━━━━━━\u001b[0m\u001b[37m\u001b[0m \u001b[1m10s\u001b[0m 281ms/step\n"
     ]
    }
   ],
   "source": [
    "x=model.predict(val_images.reshape((-1, 224, 224, 1)))\n"
   ]
  },
  {
   "cell_type": "code",
   "execution_count": 44,
   "metadata": {},
   "outputs": [
    {
     "name": "stdout",
     "output_type": "stream",
     "text": [
      "\u001b[1m1/1\u001b[0m \u001b[32m━━━━━━━━━━━━━━━━━━━━\u001b[0m\u001b[37m\u001b[0m \u001b[1m0s\u001b[0m 41ms/step\n",
      "0\n"
     ]
    }
   ],
   "source": [
    "x=model.predict(val_images[4].reshape((-1, 224, 224, 1)))\n",
    "if(x>0.5):\n",
    "    print(1)\n",
    "else:\n",
    "    print(0)\n"
   ]
  },
  {
   "cell_type": "code",
   "execution_count": 45,
   "metadata": {},
   "outputs": [
    {
     "name": "stdout",
     "output_type": "stream",
     "text": [
      "[0.] [[0.40563902]]\n"
     ]
    }
   ],
   "source": [
    "print(val_labels[4],x)"
   ]
  },
  {
   "cell_type": "code",
   "execution_count": 48,
   "metadata": {},
   "outputs": [
    {
     "name": "stdout",
     "output_type": "stream",
     "text": [
      "Epoch 1/10\n",
      "\u001b[1m216/216\u001b[0m \u001b[32m━━━━━━━━━━━━━━━━━━━━\u001b[0m\u001b[37m\u001b[0m \u001b[1m300s\u001b[0m 1s/step - accuracy: 0.5516 - loss: 114.1498 - val_accuracy: 0.6630 - val_loss: 0.6363\n",
      "Epoch 2/10\n",
      "\u001b[1m216/216\u001b[0m \u001b[32m━━━━━━━━━━━━━━━━━━━━\u001b[0m\u001b[37m\u001b[0m \u001b[1m276s\u001b[0m 1s/step - accuracy: 0.6837 - loss: 0.6090 - val_accuracy: 0.7013 - val_loss: 0.5844\n",
      "Epoch 3/10\n",
      "\u001b[1m216/216\u001b[0m \u001b[32m━━━━━━━━━━━━━━━━━━━━\u001b[0m\u001b[37m\u001b[0m \u001b[1m252s\u001b[0m 1s/step - accuracy: 0.7494 - loss: 0.5039 - val_accuracy: 0.7227 - val_loss: 0.5470\n",
      "Epoch 4/10\n",
      "\u001b[1m216/216\u001b[0m \u001b[32m━━━━━━━━━━━━━━━━━━━━\u001b[0m\u001b[37m\u001b[0m \u001b[1m246s\u001b[0m 1s/step - accuracy: 0.7875 - loss: 0.4470 - val_accuracy: 0.7523 - val_loss: 0.5276\n",
      "Epoch 5/10\n",
      "\u001b[1m216/216\u001b[0m \u001b[32m━━━━━━━━━━━━━━━━━━━━\u001b[0m\u001b[37m\u001b[0m \u001b[1m248s\u001b[0m 1s/step - accuracy: 0.8650 - loss: 0.3218 - val_accuracy: 0.7651 - val_loss: 0.5250\n",
      "Epoch 6/10\n",
      "\u001b[1m216/216\u001b[0m \u001b[32m━━━━━━━━━━━━━━━━━━━━\u001b[0m\u001b[37m\u001b[0m \u001b[1m248s\u001b[0m 1s/step - accuracy: 0.9103 - loss: 0.2231 - val_accuracy: 0.7668 - val_loss: 0.6081\n",
      "Epoch 7/10\n",
      "\u001b[1m216/216\u001b[0m \u001b[32m━━━━━━━━━━━━━━━━━━━━\u001b[0m\u001b[37m\u001b[0m \u001b[1m250s\u001b[0m 1s/step - accuracy: 0.9485 - loss: 0.1412 - val_accuracy: 0.7593 - val_loss: 0.6662\n",
      "Epoch 8/10\n",
      "\u001b[1m216/216\u001b[0m \u001b[32m━━━━━━━━━━━━━━━━━━━━\u001b[0m\u001b[37m\u001b[0m \u001b[1m247s\u001b[0m 1s/step - accuracy: 0.9805 - loss: 0.0649 - val_accuracy: 0.7790 - val_loss: 0.7867\n",
      "Epoch 9/10\n",
      "\u001b[1m216/216\u001b[0m \u001b[32m━━━━━━━━━━━━━━━━━━━━\u001b[0m\u001b[37m\u001b[0m \u001b[1m283s\u001b[0m 1s/step - accuracy: 0.9889 - loss: 0.0359 - val_accuracy: 0.7796 - val_loss: 0.9283\n",
      "Epoch 10/10\n",
      "\u001b[1m216/216\u001b[0m \u001b[32m━━━━━━━━━━━━━━━━━━━━\u001b[0m\u001b[37m\u001b[0m \u001b[1m280s\u001b[0m 1s/step - accuracy: 0.9908 - loss: 0.0328 - val_accuracy: 0.7796 - val_loss: 1.0000\n",
      "\u001b[1m54/54\u001b[0m \u001b[32m━━━━━━━━━━━━━━━━━━━━\u001b[0m\u001b[37m\u001b[0m \u001b[1m14s\u001b[0m 251ms/step - accuracy: 0.7828 - loss: 0.9688\n",
      "Validation accuracy: 0.7795823812484741\n"
     ]
    }
   ],
   "source": [
    "import os\n",
    "import cv2\n",
    "import numpy as np\n",
    "from sklearn.model_selection import train_test_split\n",
    "from tensorflow.keras.layers import Conv2D, MaxPooling2D, Flatten, Dense\n",
    "from tensorflow.keras.models import Sequential\n",
    "\n",
    "# Define the paths to the real and forged signature images\n",
    "real_path = r'C:\\Users\\shamr\\Desktop\\Hindhi\\original'\n",
    "forged_path = r'C:\\Users\\shamr\\Desktop\\Hindhi\\forged'\n",
    "\n",
    "# Load the real signature images\n",
    "real_images = []\n",
    "for filename in os.listdir(real_path):\n",
    "    image = cv2.imread(os.path.join(real_path, filename))\n",
    "    if image is not None:\n",
    "        image = cv2.cvtColor(image, cv2.COLOR_BGR2GRAY)\n",
    "        image = cv2.resize(image, (224, 224))\n",
    "        real_images.append(image)\n",
    "\n",
    "# Load the forged signature images\n",
    "forged_images = []\n",
    "for filename in os.listdir(forged_path):\n",
    "    image = cv2.imread(os.path.join(forged_path, filename))\n",
    "    if image is not None:\n",
    "        image = cv2.cvtColor(image, cv2.COLOR_BGR2GRAY)\n",
    "        image = cv2.resize(image, (224, 224))\n",
    "        forged_images.append(image)\n",
    "\n",
    "# Convert the images to numpy arrays\n",
    "real_images = np.array(real_images)\n",
    "forged_images = np.array(forged_images)\n",
    "\n",
    "# Create the labels (0 for real, 1 for forged)\n",
    "real_labels = np.zeros((real_images.shape[0], 1))\n",
    "forged_labels = np.ones((forged_images.shape[0], 1))\n",
    "\n",
    "# Concatenate the real and forged images and labels\n",
    "images = np.concatenate((real_images, forged_images))\n",
    "labels = np.concatenate((real_labels, forged_labels))\n",
    "\n",
    "# Split the data into training and validation sets\n",
    "train_images, val_images, train_labels, val_labels = train_test_split(images, labels, test_size=0.2, random_state=42)\n",
    "\n",
    "# Create the CNN model\n",
    "model = Sequential([\n",
    "    Conv2D(32, (3,3), activation='relu', input_shape=(224,224,1)),\n",
    "    MaxPooling2D(2,2),\n",
    "    Conv2D(64, (3,3), activation='relu'),\n",
    "    MaxPooling2D(2,2),\n",
    "    Conv2D(128, (3,3), activation='relu'),\n",
    "    MaxPooling2D(2,2),\n",
    "    Flatten(),\n",
    "    Dense(512, activation='relu'),\n",
    "    Dense(1, activation='sigmoid')\n",
    "])\n",
    "\n",
    "# Compile the model\n",
    "model.compile(loss='binary_crossentropy', optimizer='adam', metrics=['accuracy'])\n",
    "\n",
    "# Train the model on the training data\n",
    "model.fit(train_images.reshape((-1, 224, 224, 1)), train_labels, batch_size=32, epochs=10, validation_data=(val_images.reshape((-1, 224, 224, 1)), val_labels))\n",
    "\n",
    "# Evaluate the model on the validation data\n",
    "loss, accuracy = model.evaluate(val_images.reshape((-1, 224, 224, 1)), val_labels)\n",
    "print('Validation accuracy:', accuracy)"
   ]
  },
  {
   "cell_type": "code",
   "execution_count": 51,
   "metadata": {},
   "outputs": [
    {
     "name": "stdout",
     "output_type": "stream",
     "text": [
      "\u001b[1m1/1\u001b[0m \u001b[32m━━━━━━━━━━━━━━━━━━━━\u001b[0m\u001b[37m\u001b[0m \u001b[1m0s\u001b[0m 56ms/step\n",
      "1\n"
     ]
    }
   ],
   "source": [
    "x=model.predict(val_images[11].reshape((-1, 224, 224, 1)))\n",
    "if (x>0.5):\n",
    "    print(1)\n",
    "else:\n",
    "    print(0)"
   ]
  },
  {
   "cell_type": "code",
   "execution_count": 52,
   "metadata": {},
   "outputs": [
    {
     "name": "stdout",
     "output_type": "stream",
     "text": [
      "[1.] [[0.9999226]]\n"
     ]
    }
   ],
   "source": [
    "print(val_labels[11],x)"
   ]
  },
  {
   "cell_type": "code",
   "execution_count": null,
   "metadata": {},
   "outputs": [],
   "source": []
  },
  {
   "cell_type": "code",
   "execution_count": null,
   "metadata": {},
   "outputs": [],
   "source": []
  },
  {
   "cell_type": "code",
   "execution_count": null,
   "metadata": {},
   "outputs": [],
   "source": []
  }
 ],
 "metadata": {
  "kernelspec": {
   "display_name": "Python 3",
   "language": "python",
   "name": "python3"
  },
  "language_info": {
   "codemirror_mode": {
    "name": "ipython",
    "version": 3
   },
   "file_extension": ".py",
   "mimetype": "text/x-python",
   "name": "python",
   "nbconvert_exporter": "python",
   "pygments_lexer": "ipython3",
   "version": "3.12.0"
  }
 },
 "nbformat": 4,
 "nbformat_minor": 2
}
